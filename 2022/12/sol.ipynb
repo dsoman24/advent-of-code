{
 "cells": [
  {
   "attachments": {},
   "cell_type": "markdown",
   "metadata": {},
   "source": [
    "# 12"
   ]
  },
  {
   "cell_type": "code",
   "execution_count": 632,
   "metadata": {},
   "outputs": [],
   "source": [
    "from queue import PriorityQueue"
   ]
  },
  {
   "cell_type": "code",
   "execution_count": 633,
   "metadata": {},
   "outputs": [],
   "source": [
    "def parse(filename):\n",
    "    with open(filename) as f:\n",
    "        grid = f.readlines()\n",
    "    for i in range(len(grid)):\n",
    "        grid[i] = [j for j in grid[i].strip()]\n",
    "    return grid"
   ]
  },
  {
   "cell_type": "code",
   "execution_count": 634,
   "metadata": {},
   "outputs": [],
   "source": [
    "class Vertex:\n",
    "    def __init__(self, x, y, grid):\n",
    "        self.x = x # row index\n",
    "        self.y = y # column index\n",
    "        self.name = grid[self.x][self.y]\n",
    "        self.elevation = 0 if self.name == \"S\" else 25 if self.name == \"E\" else ord(self.name) - 97\n",
    "        self.grid = grid\n",
    "\n",
    "    def adj(self, reverse = False):\n",
    "        adj = []\n",
    "\n",
    "        def add(adj_list, vertex):\n",
    "            if not reverse:\n",
    "                if vertex.elevation - self.elevation <= 1:\n",
    "                    adj_list.append(vertex)\n",
    "            else:\n",
    "                if vertex.elevation - self.elevation >= -1:\n",
    "                    adj_list.append(vertex)\n",
    "\n",
    "        if self.y >= 1:\n",
    "            v = Vertex(self.x, self.y - 1, self.grid)\n",
    "            add(adj, v)\n",
    "        if self.y <= len(self.grid[0]) - 2:\n",
    "            v = Vertex(self.x, self.y + 1, self.grid)\n",
    "            add(adj, v)\n",
    "\n",
    "        if self.x >= 1:\n",
    "            v = Vertex(self.x - 1, self.y, self.grid)\n",
    "            add(adj, v)\n",
    "\n",
    "        if self.x <= len(self.grid) - 2:\n",
    "            v = Vertex(self.x + 1, self.y, self.grid)\n",
    "            add(adj, v)\n",
    "\n",
    "\n",
    "        # adj.sort(key = lambda x : x.elevation, reverse = True)\n",
    "        return adj\n",
    "\n",
    "    def __eq__(self, other):\n",
    "        return self.x == other.x and self.y == other.y\n",
    "\n",
    "    def __hash__(self):\n",
    "        return self.x + self.y + self.elevation\n",
    "\n",
    "    def __str__(self):\n",
    "        return f\"{self.name}: elevation {self.elevation} at ({self.x}, {self.y})\"\n",
    "\n",
    "    def __ge__(self, other):\n",
    "        return self.elevation >= other.elevation\n",
    "\n",
    "    def __lt__(self, other):\n",
    "        return self.elevation < other.elevation\n"
   ]
  },
  {
   "cell_type": "code",
   "execution_count": 635,
   "metadata": {},
   "outputs": [],
   "source": [
    "class VertexDistance:\n",
    "    def __init__(self, vertex, distance):\n",
    "        self.vertex = vertex\n",
    "        self.distance = distance\n",
    "\n",
    "    def __ge__(self, other):\n",
    "        return self.vertex >= other.vertex\n",
    "\n",
    "    def __lt__(self, other):\n",
    "        return self.vertex < other.vertex"
   ]
  },
  {
   "cell_type": "code",
   "execution_count": 636,
   "metadata": {},
   "outputs": [],
   "source": [
    "def bfs(grid, start_key, end_key, reverse):\n",
    "    distances = {}\n",
    "    for i in range(len(grid)):\n",
    "        for j in range(len(grid[i])):\n",
    "            v = Vertex(i, j, grid)\n",
    "            if v.name == start_key:\n",
    "                start = v\n",
    "            distances[v] = float(\"inf\")\n",
    "    visited = set()\n",
    "    queue = []\n",
    "    queue.append(VertexDistance(start, 0))\n",
    "    while len(queue) != 0 and len(visited) != len(distances):\n",
    "        v = queue.pop(0)\n",
    "        if v.vertex not in visited:\n",
    "            visited.add(v.vertex)\n",
    "            if v.distance < distances[v.vertex]:\n",
    "                distances[v.vertex] = v.distance\n",
    "            adj = v.vertex.adj(reverse)\n",
    "            for u in adj:\n",
    "                if u not in visited:\n",
    "                    queue.append(VertexDistance(u, v.distance + 1))\n",
    "    min_distance = float(\"inf\")\n",
    "    for vertex, distance in distances.items():\n",
    "        if vertex.name == end_key and distance < min_distance:\n",
    "            min_distance = distance\n",
    "    return min_distance"
   ]
  },
  {
   "attachments": {},
   "cell_type": "markdown",
   "metadata": {},
   "source": [
    "Part 1"
   ]
  },
  {
   "cell_type": "code",
   "execution_count": 637,
   "metadata": {},
   "outputs": [],
   "source": [
    "def part1():\n",
    "    grid = parse(\"input.txt\")\n",
    "    return bfs(grid, \"S\", \"E\", reverse = False)"
   ]
  },
  {
   "cell_type": "code",
   "execution_count": 638,
   "metadata": {},
   "outputs": [
    {
     "data": {
      "text/plain": [
       "31"
      ]
     },
     "execution_count": 638,
     "metadata": {},
     "output_type": "execute_result"
    }
   ],
   "source": [
    "part1()"
   ]
  },
  {
   "attachments": {},
   "cell_type": "markdown",
   "metadata": {},
   "source": [
    "Part 2"
   ]
  },
  {
   "cell_type": "code",
   "execution_count": 639,
   "metadata": {},
   "outputs": [],
   "source": [
    "def part2():\n",
    "    grid = parse(\"input.txt\")\n",
    "    return bfs(grid, \"E\", \"a\", reverse = True)"
   ]
  },
  {
   "cell_type": "code",
   "execution_count": 640,
   "metadata": {},
   "outputs": [
    {
     "data": {
      "text/plain": [
       "416"
      ]
     },
     "execution_count": 640,
     "metadata": {},
     "output_type": "execute_result"
    }
   ],
   "source": [
    "part2()"
   ]
  }
 ],
 "metadata": {
  "kernelspec": {
   "display_name": "Python 3",
   "language": "python",
   "name": "python3"
  },
  "language_info": {
   "codemirror_mode": {
    "name": "ipython",
    "version": 3
   },
   "file_extension": ".py",
   "mimetype": "text/x-python",
   "name": "python",
   "nbconvert_exporter": "python",
   "pygments_lexer": "ipython3",
   "version": "3.9.0"
  },
  "orig_nbformat": 4,
  "vscode": {
   "interpreter": {
    "hash": "aee8b7b246df8f9039afb4144a1f6fd8d2ca17a180786b69acc140d282b71a49"
   }
  }
 },
 "nbformat": 4,
 "nbformat_minor": 2
}
