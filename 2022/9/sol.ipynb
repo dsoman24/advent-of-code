{
 "cells": [
  {
   "attachments": {},
   "cell_type": "markdown",
   "metadata": {},
   "source": [
    "# 9"
   ]
  },
  {
   "cell_type": "code",
   "execution_count": 666,
   "metadata": {},
   "outputs": [],
   "source": [
    "with open(\"input.txt\") as f:\n",
    "    lines = f.readlines()\n",
    "\n",
    "instructions = [[line.strip().split()[0], int(line.strip().split()[1])] for line in lines]"
   ]
  },
  {
   "cell_type": "code",
   "execution_count": 667,
   "metadata": {},
   "outputs": [],
   "source": [
    "class Point:\n",
    "    def __init__(self, x, y):\n",
    "        self.x = x\n",
    "        self.y = y\n",
    "\n",
    "    def __str__(self):\n",
    "        return f\"({self.x}, {self.y})\"\n",
    "\n",
    "    def __eq__(self, other):\n",
    "        return self.x == other.x and self.y == other.y\n",
    "\n",
    "    def __hash__(self):\n",
    "        return self.x + self.y\n",
    "\n",
    "def step(direction, point):\n",
    "    if direction == \"U\":\n",
    "        return Point(point.x, point.y + 1)\n",
    "    if direction == \"D\":\n",
    "        return Point(point.x, point.y - 1)\n",
    "    if direction == \"L\":\n",
    "        return Point(point.x - 1,  point.y)\n",
    "    if direction == \"R\":\n",
    "        return Point(point.x + 1, point.y)"
   ]
  },
  {
   "cell_type": "code",
   "execution_count": 668,
   "metadata": {},
   "outputs": [],
   "source": [
    "class Knot: #DLL node\n",
    "    def __init__(self, x, y):\n",
    "        self.data = Point(x, y)\n",
    "        self.prev = None\n",
    "        self.next = None\n",
    "\n",
    "    def __str__(self):\n",
    "        return str(self.data)\n",
    "\n",
    "    def step(self, direction):\n",
    "        if direction == \"U\":\n",
    "            self.data.y += 1\n",
    "        if direction == \"D\":\n",
    "            self.data.y -= 1\n",
    "        if direction == \"L\":\n",
    "            self.data.x -= 1\n",
    "        if direction == \"R\":\n",
    "            self.data.x += 1\n",
    "\n",
    "\n",
    "\n",
    "class Rope: # DLL\n",
    "    def __init__(self, length):\n",
    "        self.head = None\n",
    "        self.tail = self.head\n",
    "        self.size = 0\n",
    "        self.visited = set()\n",
    "        for i in range(length):\n",
    "            self.addToBack(0, 0)\n",
    "        \n",
    "\n",
    "    def addToBack(self, x, y):\n",
    "        if self.size == 0:\n",
    "            self.head = Knot(x, y)\n",
    "            self.tail = self.head\n",
    "        else:\n",
    "            self.tail.next = Knot(x, y)\n",
    "            self.tail.next.prev = self.tail\n",
    "            self.tail = self.tail.next\n",
    "        self.size += 1\n",
    "    \n",
    "    def construct(self, length):\n",
    "        for i in range(length):\n",
    "            self.addToBack(0, 0)\n",
    "\n",
    "    def __str__(self):\n",
    "        string = \"\"\n",
    "        curr = self.head\n",
    "        while curr != None:\n",
    "            string += str(curr.data) + \" \"\n",
    "            curr = curr.next\n",
    "        return string\n",
    "\n",
    "    def step(self, direction):\n",
    "        curr = self.head\n",
    "        curr.step(direction)\n",
    "\n",
    "        curr = curr.next\n",
    "        i = 1\n",
    "        while curr != None:\n",
    "            if (abs(curr.data.x - curr.prev.data.x) > 1 or abs(curr.data.y - curr.prev.data.y) > 1):\n",
    "                nextState = Point(curr.data.x, curr.data.y)\n",
    "                # no longer touching\n",
    "                if curr.data.x - curr.prev.data.x >= 1:\n",
    "                    nextState.x -= 1\n",
    "                elif curr.data.x - curr.prev.data.x <= -1:\n",
    "                    nextState.x += 1\n",
    "                if curr.data.y - curr.prev.data.y >= 1:\n",
    "                    nextState.y -= 1\n",
    "                elif curr.data.y - curr.prev.data.y <= -1:\n",
    "                    nextState.y += 1\n",
    "                curr.data = nextState\n",
    "            i += 1\n",
    "            if i == self.size:\n",
    "                self.visited.add(curr.data)\n",
    "            curr = curr.next\n",
    "        \n",
    "    def printGrid(self, x, y):\n",
    "        grid = [[\"_\" for i in range(x)] for j in range(y)]\n",
    "        curr = self.head\n",
    "        i = 0\n",
    "        while curr != None:\n",
    "            grid[curr.data.y][curr.data.x] = str(i)\n",
    "            i += 1\n",
    "            curr = curr.next    \n",
    "        for row in grid:\n",
    "            for element in row:\n",
    "                print(element, end = \" \")\n",
    "            print()\n"
   ]
  },
  {
   "cell_type": "code",
   "execution_count": 669,
   "metadata": {},
   "outputs": [],
   "source": [
    "def sol(length):\n",
    "    rope = Rope(length)\n",
    "    for instruction in instructions:\n",
    "        # print(instruction)\n",
    "        direction = instruction[0]\n",
    "        times = instruction[1]\n",
    "        for i in range(times):\n",
    "            rope.step(direction)\n",
    "        # rope.printGrid(20, 20)\n",
    "        # print()\n",
    "    return len(rope.visited)"
   ]
  },
  {
   "attachments": {},
   "cell_type": "markdown",
   "metadata": {},
   "source": [
    "Part 1"
   ]
  },
  {
   "cell_type": "code",
   "execution_count": 670,
   "metadata": {},
   "outputs": [
    {
     "data": {
      "text/plain": [
       "6067"
      ]
     },
     "execution_count": 670,
     "metadata": {},
     "output_type": "execute_result"
    }
   ],
   "source": [
    "sol(2)"
   ]
  },
  {
   "attachments": {},
   "cell_type": "markdown",
   "metadata": {},
   "source": [
    "Part 2"
   ]
  },
  {
   "cell_type": "code",
   "execution_count": 671,
   "metadata": {},
   "outputs": [
    {
     "data": {
      "text/plain": [
       "2471"
      ]
     },
     "execution_count": 671,
     "metadata": {},
     "output_type": "execute_result"
    }
   ],
   "source": [
    "sol(10)"
   ]
  }
 ],
 "metadata": {
  "kernelspec": {
   "display_name": "Python 3",
   "language": "python",
   "name": "python3"
  },
  "language_info": {
   "codemirror_mode": {
    "name": "ipython",
    "version": 3
   },
   "file_extension": ".py",
   "mimetype": "text/x-python",
   "name": "python",
   "nbconvert_exporter": "python",
   "pygments_lexer": "ipython3",
   "version": "3.9.0"
  },
  "orig_nbformat": 4,
  "vscode": {
   "interpreter": {
    "hash": "aee8b7b246df8f9039afb4144a1f6fd8d2ca17a180786b69acc140d282b71a49"
   }
  }
 },
 "nbformat": 4,
 "nbformat_minor": 2
}
