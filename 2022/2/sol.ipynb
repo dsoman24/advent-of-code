{
 "cells": [
  {
   "cell_type": "markdown",
   "metadata": {},
   "source": [
    "# AoC DAY 2"
   ]
  },
  {
   "cell_type": "code",
   "execution_count": 1,
   "metadata": {},
   "outputs": [],
   "source": [
    "with open(\"input.txt\") as f:\n",
    "    lines = f.readlines()"
   ]
  },
  {
   "cell_type": "markdown",
   "metadata": {},
   "source": [
    "Part 1\n",
    "\n",
    "(1 for A, 2 for B, 3 for C) + (0 for loss, 3 draw, 6 win)"
   ]
  },
  {
   "cell_type": "code",
   "execution_count": 2,
   "metadata": {},
   "outputs": [
    {
     "data": {
      "text/plain": [
       "10404"
      ]
     },
     "execution_count": 2,
     "metadata": {},
     "output_type": "execute_result"
    }
   ],
   "source": [
    "plays = {\"X\" : \"A\", \"Y\" : \"B\", \"Z\" : \"C\"}\n",
    "points = {\"A\" : 1, \"B\" : 2, \"C\" : 3}\n",
    "\n",
    "score = 0\n",
    "for line in lines:\n",
    "    line = [i.strip() for i in line.split(\" \")]\n",
    "    score += points[plays[line[1]]]\n",
    "    if (line[0] == plays[line[1]]):\n",
    "        score += 3\n",
    "    elif ((line[0] == \"A\" and plays[line[1]] == \"B\") \n",
    "        or (line[0] == \"B\" and plays[line[1]] == \"C\") \n",
    "        or (line[0] == \"C\" and plays[line[1]] == \"A\")):\n",
    "        score += 6\n",
    "\n",
    "score\n"
   ]
  },
  {
   "cell_type": "markdown",
   "metadata": {},
   "source": [
    "Part 2"
   ]
  },
  {
   "cell_type": "code",
   "execution_count": 4,
   "metadata": {},
   "outputs": [
    {
     "data": {
      "text/plain": [
       "10334"
      ]
     },
     "execution_count": 4,
     "metadata": {},
     "output_type": "execute_result"
    }
   ],
   "source": [
    "outcome = {\"X\" : 0, \"Y\" : 3, \"Z\" : 6}\n",
    "\n",
    "score = 0\n",
    "for line in lines:\n",
    "    line = [i.strip() for i in line.split(\" \")]\n",
    "    score += outcome[line[1]]\n",
    "    if line[1] == \"X\":\n",
    "        if line[0] == \"A\":\n",
    "            score += 3\n",
    "        elif line[0] == \"B\":\n",
    "            score += 1\n",
    "        else:\n",
    "            score += 2\n",
    "    elif line[1] == \"Y\":\n",
    "        score += points[line[0]]\n",
    "    else:\n",
    "        if line[0] == \"A\":\n",
    "            score += 2\n",
    "        elif line[0] == \"B\":\n",
    "            score += 3\n",
    "        else:\n",
    "            score += 1\n",
    "\n",
    "score"
   ]
  }
 ],
 "metadata": {
  "kernelspec": {
   "display_name": "Python 3.9.0 64-bit",
   "language": "python",
   "name": "python3"
  },
  "language_info": {
   "codemirror_mode": {
    "name": "ipython",
    "version": 3
   },
   "file_extension": ".py",
   "mimetype": "text/x-python",
   "name": "python",
   "nbconvert_exporter": "python",
   "pygments_lexer": "ipython3",
   "version": "3.9.0"
  },
  "orig_nbformat": 4,
  "vscode": {
   "interpreter": {
    "hash": "aee8b7b246df8f9039afb4144a1f6fd8d2ca17a180786b69acc140d282b71a49"
   }
  }
 },
 "nbformat": 4,
 "nbformat_minor": 2
}
