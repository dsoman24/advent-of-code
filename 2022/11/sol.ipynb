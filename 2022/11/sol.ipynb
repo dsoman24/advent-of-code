{
 "cells": [
  {
   "attachments": {},
   "cell_type": "markdown",
   "metadata": {},
   "source": [
    "# 11"
   ]
  },
  {
   "cell_type": "code",
   "execution_count": 49,
   "metadata": {},
   "outputs": [],
   "source": [
    "class Monkey:\n",
    "    def __init__(self, name, worry_divisor, items, operation, test, if_true, if_false):\n",
    "        self.name = name\n",
    "        self.items = items\n",
    "        self.operation = operation\n",
    "        self.test = int(test.split()[-1])\n",
    "        self.if_true = int(if_true.split()[-1])\n",
    "        self.if_false = int(if_false.split()[-1])\n",
    "        self.inspections = 0\n",
    "        self.common_divisor = 1\n",
    "        self.worry_divisor = worry_divisor\n",
    "\n",
    "    def add(self, item):\n",
    "        self.items.append(item)\n",
    "\n",
    "    def inspect(self, item): # returns monkey to throw to\n",
    "        index = self.items.index(item)\n",
    "        self.items[index] = self.operate(item) // self.worry_divisor\n",
    "        self.items[index] = self.items[index] % self.common_divisor\n",
    "        self.inspections += 1\n",
    "        return self.if_true if self.items[index] % self.test == 0 else self.if_false\n",
    "\n",
    "    def remove(self, item):\n",
    "        self.items.remove(item)\n",
    "\n",
    "    def __str__(self):\n",
    "        string = f\"Monkey {self.name} with items {self.items} and {self.inspections} inspections\"\n",
    "        return string\n",
    "\n",
    "    def operate(self, old):\n",
    "        op = self.operation.split()\n",
    "        operand = op[-1]\n",
    "        if operand == \"old\":\n",
    "            operand = old\n",
    "        else:\n",
    "            operand = int(operand)\n",
    "        \n",
    "        operator = op[-2]\n",
    "        if operator == \"+\":\n",
    "            return old + operand\n",
    "        elif operator == \"-\":\n",
    "            return old - operand\n",
    "        elif operator == \"*\":\n",
    "            return old * operand\n",
    "        else:\n",
    "            return old / operand"
   ]
  },
  {
   "cell_type": "code",
   "execution_count": 50,
   "metadata": {},
   "outputs": [],
   "source": [
    "class Monkeys:\n",
    "    def __init__(self, worry_divisor = 1):\n",
    "        self.monkeys = []\n",
    "        self.worry_divisor = worry_divisor\n",
    "    \n",
    "    def transfer(self, a, b, item):\n",
    "        # transfer item from a to b\n",
    "        for monkey in self.monkeys:\n",
    "            if monkey.name == a:\n",
    "                monkey.remove(item)\n",
    "            if monkey.name == b:\n",
    "                monkey.add(item)\n",
    "\n",
    "    def monkey_business(self):\n",
    "        top_two = [m.inspections for m in sorted(self.monkeys, key = lambda x: x.inspections, reverse = True)[0:2]]\n",
    "        return top_two[0]*top_two[1]\n",
    "\n",
    "    def add(self, monkey):\n",
    "        self.monkeys.append(monkey)\n",
    "\n",
    "    def round(self):\n",
    "        for monkey in self.monkeys:\n",
    "            for i in range(len(monkey.items)):\n",
    "                index = monkey.inspect(monkey.items[0])\n",
    "                self.transfer(monkey.name, index, monkey.items[0])\n",
    "        # print(self)\n",
    "    def solution(self, rounds):\n",
    "        for _ in range(rounds):\n",
    "            self.round()\n",
    "\n",
    "        return self.monkey_business()\n",
    "    \n",
    "    def __str__(self):\n",
    "        string = \"\"\n",
    "        for monkey in self.monkeys:\n",
    "            string += str(monkey) + \"\\n\"\n",
    "        return string\n",
    "\n",
    "    def parse(self, filename):\n",
    "        with open(filename) as f:\n",
    "            lines = f.readlines()\n",
    "\n",
    "        name = 0\n",
    "        for i in range(0, len(lines), 7):\n",
    "            items = [int(x) for x in lines[i + 1].strip().split(\": \")[1].split(\", \")]\n",
    "            operation = lines[i + 2].strip()\n",
    "            test = lines[i + 3].strip()\n",
    "            if_true = lines[i + 4].strip()\n",
    "            if_false = lines[i + 5].strip()\n",
    "\n",
    "            self.add(Monkey(name, self.worry_divisor, items, operation, test, if_true, if_false))\n",
    "            name += 1\n",
    "\n",
    "        common_divisor = functools.reduce(lambda cd, x: cd * x, (monkey.test for monkey in self.monkeys))\n",
    "        for monkey in self.monkeys:\n",
    "            monkey.common_divisor = common_divisor\n",
    "        "
   ]
  },
  {
   "cell_type": "code",
   "execution_count": 51,
   "metadata": {},
   "outputs": [],
   "source": [
    "import functools"
   ]
  },
  {
   "cell_type": "code",
   "execution_count": 52,
   "metadata": {},
   "outputs": [],
   "source": [
    "def solution(filename, divisor, times):\n",
    "    monkeys = Monkeys(divisor)\n",
    "    monkeys.parse(filename)\n",
    "    return monkeys.solution(times)"
   ]
  },
  {
   "attachments": {},
   "cell_type": "markdown",
   "metadata": {},
   "source": [
    "Part 1"
   ]
  },
  {
   "cell_type": "code",
   "execution_count": 53,
   "metadata": {},
   "outputs": [
    {
     "data": {
      "text/plain": [
       "107822"
      ]
     },
     "execution_count": 53,
     "metadata": {},
     "output_type": "execute_result"
    }
   ],
   "source": [
    "solution(\"input.txt\", 3, 20)"
   ]
  },
  {
   "attachments": {},
   "cell_type": "markdown",
   "metadata": {},
   "source": [
    "Part 2"
   ]
  },
  {
   "cell_type": "code",
   "execution_count": 54,
   "metadata": {},
   "outputs": [
    {
     "data": {
      "text/plain": [
       "27267163742"
      ]
     },
     "execution_count": 54,
     "metadata": {},
     "output_type": "execute_result"
    }
   ],
   "source": [
    "solution(\"input.txt\", 1, 10000)"
   ]
  }
 ],
 "metadata": {
  "kernelspec": {
   "display_name": "Python 3",
   "language": "python",
   "name": "python3"
  },
  "language_info": {
   "codemirror_mode": {
    "name": "ipython",
    "version": 3
   },
   "file_extension": ".py",
   "mimetype": "text/x-python",
   "name": "python",
   "nbconvert_exporter": "python",
   "pygments_lexer": "ipython3",
   "version": "3.9.0"
  },
  "orig_nbformat": 4,
  "vscode": {
   "interpreter": {
    "hash": "aee8b7b246df8f9039afb4144a1f6fd8d2ca17a180786b69acc140d282b71a49"
   }
  }
 },
 "nbformat": 4,
 "nbformat_minor": 2
}
