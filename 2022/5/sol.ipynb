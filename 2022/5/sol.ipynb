{
 "cells": [
  {
   "cell_type": "markdown",
   "metadata": {},
   "source": [
    "# AoC Day 5"
   ]
  },
  {
   "cell_type": "markdown",
   "metadata": {},
   "source": [
    "Parse input into 9 stacks"
   ]
  },
  {
   "cell_type": "code",
   "execution_count": 70,
   "metadata": {},
   "outputs": [],
   "source": [
    "import re"
   ]
  },
  {
   "cell_type": "code",
   "execution_count": 71,
   "metadata": {},
   "outputs": [],
   "source": [
    "with open(\"input.txt\") as f:\n",
    "    lines = f.readlines()"
   ]
  },
  {
   "cell_type": "code",
   "execution_count": 72,
   "metadata": {},
   "outputs": [],
   "source": [
    "class Stack:\n",
    "    def __init__(self):\n",
    "        self.arr = []\n",
    "\n",
    "    def force_insert(self, item):\n",
    "        self.arr.insert(0, item)\n",
    "\n",
    "    def push(self, items):\n",
    "        for item in items:\n",
    "            self.arr.append(item)\n",
    "\n",
    "    def pop(self, amount):\n",
    "        popped = []\n",
    "        for i in range(amount):\n",
    "            popped.append(self.arr.pop(-1))\n",
    "        return popped[::-1]\n",
    "\n",
    "    def peek(self):\n",
    "        return self.arr[-1]\n",
    "\n",
    "    def is_empty(self):\n",
    "        return len(self.arr) == 0\n",
    "\n",
    "    def __str__(self):\n",
    "        stack = \"\"\n",
    "        for i in self.arr:\n",
    "            stack += i\n",
    "        return stack\n"
   ]
  },
  {
   "cell_type": "code",
   "execution_count": 73,
   "metadata": {},
   "outputs": [],
   "source": [
    "class ParsedStacks:\n",
    "    def __init__(self, lines):\n",
    "        # find number of stacks first\n",
    "        self.lines = lines\n",
    "        i = 0\n",
    "        while self.lines[i + 1] != \"\\n\":\n",
    "            i += 1\n",
    "\n",
    "        longest_stack_length = i\n",
    "        self.first_instruction = i + 2\n",
    "        num_stacks_line = lines[longest_stack_length]\n",
    "        num_stacks = 0\n",
    "        for j in range(0, len(num_stacks_line)):\n",
    "            if num_stacks_line[j].isnumeric() and int(num_stacks_line[j]) > num_stacks:\n",
    "                num_stacks = int(num_stacks_line[j])\n",
    "\n",
    "        # initialize empty stacks\n",
    "        self.stacks = {i:Stack() for i in range(num_stacks)}\n",
    "\n",
    "        # populate stacks\n",
    "        for i in range(0, longest_stack_length):\n",
    "            stack = 0\n",
    "            for j in range(0, len(self.lines[i]), 4):\n",
    "                if lines[i][j] == \"[\":\n",
    "                    self.stacks[stack].force_insert(lines[i][j + 1])\n",
    "                stack += 1\n",
    "        \n",
    "    def transfer(self, amount, from_idx, to_idx):\n",
    "        # transfer item from a stack to another\n",
    "        items = self.stacks[from_idx - 1].pop(amount)\n",
    "        # print(f\"transfer {item} from {from_idx} to {to_idx}\")\n",
    "        self.stacks[to_idx - 1].push(items)\n",
    "\n",
    "    def top_of_stacks(self):\n",
    "        top = \"\"\n",
    "        for stack in self.stacks.values():\n",
    "            if not stack.is_empty():\n",
    "                top += stack.peek()\n",
    "            else:\n",
    "                top += \" \"\n",
    "        return top\n",
    "\n",
    "    def instruction_at(self, i):\n",
    "        return tuple([int(j.strip()) for j in re.split(r\"move | from | to \", self.lines[i])[1:]])\n",
    "\n"
   ]
  },
  {
   "cell_type": "markdown",
   "metadata": {},
   "source": [
    "Part 1"
   ]
  },
  {
   "cell_type": "code",
   "execution_count": 74,
   "metadata": {},
   "outputs": [
    {
     "data": {
      "text/plain": [
       "'WSFTMRHPP'"
      ]
     },
     "execution_count": 74,
     "metadata": {},
     "output_type": "execute_result"
    }
   ],
   "source": [
    "p1 = ParsedStacks(lines)\n",
    "\n",
    "for i in range(p1.first_instruction, len(p1.lines)):\n",
    "    instruction = p1.instruction_at(i)\n",
    "    moves = instruction[0]\n",
    "    move_from = instruction[1]\n",
    "    move_to = instruction[2]\n",
    "    for j in range(moves):\n",
    "        p1.transfer(1, move_from, move_to)\n",
    "\n",
    "p1.top_of_stacks()"
   ]
  },
  {
   "cell_type": "markdown",
   "metadata": {},
   "source": [
    "Part 2"
   ]
  },
  {
   "cell_type": "markdown",
   "metadata": {},
   "source": [
    "Move chunks"
   ]
  },
  {
   "cell_type": "code",
   "execution_count": 75,
   "metadata": {},
   "outputs": [
    {
     "data": {
      "text/plain": [
       "'GSLCMFBRP'"
      ]
     },
     "execution_count": 75,
     "metadata": {},
     "output_type": "execute_result"
    }
   ],
   "source": [
    "p2 = ParsedStacks(lines)\n",
    "\n",
    "for i in range(p2.first_instruction, len(p2.lines)):\n",
    "    instruction = p2.instruction_at(i)\n",
    "    moves = instruction[0]\n",
    "    move_from = instruction[1]\n",
    "    move_to = instruction[2]\n",
    "    p2.transfer(moves, move_from, move_to)\n",
    "\n",
    "p2.top_of_stacks()\n",
    "    "
   ]
  }
 ],
 "metadata": {
  "kernelspec": {
   "display_name": "Python 3.9.0 64-bit",
   "language": "python",
   "name": "python3"
  },
  "language_info": {
   "codemirror_mode": {
    "name": "ipython",
    "version": 3
   },
   "file_extension": ".py",
   "mimetype": "text/x-python",
   "name": "python",
   "nbconvert_exporter": "python",
   "pygments_lexer": "ipython3",
   "version": "3.9.0"
  },
  "orig_nbformat": 4,
  "vscode": {
   "interpreter": {
    "hash": "aee8b7b246df8f9039afb4144a1f6fd8d2ca17a180786b69acc140d282b71a49"
   }
  }
 },
 "nbformat": 4,
 "nbformat_minor": 2
}
