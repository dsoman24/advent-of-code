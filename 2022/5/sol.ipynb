{
 "cells": [
  {
   "cell_type": "markdown",
   "metadata": {},
   "source": [
    "# AoC Day 5"
   ]
  },
  {
   "cell_type": "markdown",
   "metadata": {},
   "source": [
    "Parse input into 9 stacks"
   ]
  },
  {
   "cell_type": "code",
   "execution_count": 5,
   "metadata": {},
   "outputs": [],
   "source": [
    "import re"
   ]
  },
  {
   "cell_type": "code",
   "execution_count": 1,
   "metadata": {},
   "outputs": [],
   "source": [
    "with open(\"input.txt\") as f:\n",
    "    lines = f.readlines()"
   ]
  },
  {
   "cell_type": "code",
   "execution_count": 2,
   "metadata": {},
   "outputs": [],
   "source": [
    "class Stack:\n",
    "    def __init__(self):\n",
    "        self.arr = []\n",
    "\n",
    "    def force_insert(self, item):\n",
    "        self.arr.insert(0, item)\n",
    "\n",
    "    def push(self, item):\n",
    "        self.arr.append(item)\n",
    "\n",
    "    def pop(self):\n",
    "        return self.arr.pop(-1) \n",
    "\n",
    "    def peek(self):\n",
    "        return self.arr[-1]\n",
    "\n",
    "    def is_empty(self):\n",
    "        return len(self.arr) == 0\n",
    "\n",
    "    def __str__(self):\n",
    "        stack = \"\"\n",
    "        for i in self.arr:\n",
    "            stack += i\n",
    "        return stack\n"
   ]
  },
  {
   "cell_type": "code",
   "execution_count": 3,
   "metadata": {},
   "outputs": [],
   "source": [
    "class ParsedStacks:\n",
    "    def __init__(self):\n",
    "        # find number of stacks first\n",
    "        i = 0\n",
    "        while lines[i + 1] != \"\\n\":\n",
    "            i += 1\n",
    "\n",
    "        longest_stack_length = i\n",
    "        self.first_instruction = i + 2\n",
    "        num_stacks_line = lines[longest_stack_length]\n",
    "        num_stacks = 0\n",
    "        for j in range(0, len(num_stacks_line)):\n",
    "            if num_stacks_line[j].isnumeric() and int(num_stacks_line[j]) > num_stacks:\n",
    "                num_stacks = int(num_stacks_line[j])\n",
    "\n",
    "        # initialize empty stacks\n",
    "        self.stacks = {i:Stack() for i in range(num_stacks)}\n",
    "\n",
    "        # populate stacks\n",
    "        for i in range(0, longest_stack_length):\n",
    "            stack = 0\n",
    "            for j in range(0, len(lines[i]), 4):\n",
    "                if lines[i][j] == \"[\":\n",
    "                    self.stacks[stack].force_insert(lines[i][j + 1])\n",
    "                stack += 1\n",
    "        \n",
    "    def transfer(self, from_idx, to_idx):\n",
    "        # transfer item from a stack to another\n",
    "        item = self.stacks[from_idx - 1].pop()\n",
    "        # print(f\"transfer {item} from {from_idx} to {to_idx}\")\n",
    "        self.stacks[to_idx - 1].push(item)\n",
    "\n",
    "    def top_of_stacks(self):\n",
    "        top = \"\"\n",
    "        for stack in self.stacks.values():\n",
    "            if not stack.is_empty():\n",
    "                top += stack.peek()\n",
    "            else:\n",
    "                top += \" \"\n",
    "        return top\n",
    "\n",
    "    def instruction_at(self, i):\n",
    "        return tuple([int(j.strip()) for j in re.split(r\"move | from | to \", lines[i])[1:]])\n",
    "\n"
   ]
  },
  {
   "cell_type": "markdown",
   "metadata": {},
   "source": [
    "Part 1"
   ]
  },
  {
   "cell_type": "code",
   "execution_count": 4,
   "metadata": {},
   "outputs": [
    {
     "ename": "NameError",
     "evalue": "name 're' is not defined",
     "output_type": "error",
     "traceback": [
      "\u001b[0;31m---------------------------------------------------------------------------\u001b[0m",
      "\u001b[0;31mNameError\u001b[0m                                 Traceback (most recent call last)",
      "\u001b[0;32m<ipython-input-4-b14c0cc849aa>\u001b[0m in \u001b[0;36m<module>\u001b[0;34m\u001b[0m\n\u001b[1;32m      2\u001b[0m \u001b[0;34m\u001b[0m\u001b[0m\n\u001b[1;32m      3\u001b[0m \u001b[0;32mfor\u001b[0m \u001b[0mi\u001b[0m \u001b[0;32min\u001b[0m \u001b[0mrange\u001b[0m\u001b[0;34m(\u001b[0m\u001b[0mstacks\u001b[0m\u001b[0;34m.\u001b[0m\u001b[0mfirst_instruction\u001b[0m\u001b[0;34m,\u001b[0m \u001b[0mlen\u001b[0m\u001b[0;34m(\u001b[0m\u001b[0mlines\u001b[0m\u001b[0;34m)\u001b[0m\u001b[0;34m)\u001b[0m\u001b[0;34m:\u001b[0m\u001b[0;34m\u001b[0m\u001b[0;34m\u001b[0m\u001b[0m\n\u001b[0;32m----> 4\u001b[0;31m     \u001b[0minstruction\u001b[0m \u001b[0;34m=\u001b[0m \u001b[0mstacks\u001b[0m\u001b[0;34m.\u001b[0m\u001b[0minstruction_at\u001b[0m\u001b[0;34m(\u001b[0m\u001b[0mi\u001b[0m\u001b[0;34m)\u001b[0m\u001b[0;34m\u001b[0m\u001b[0;34m\u001b[0m\u001b[0m\n\u001b[0m\u001b[1;32m      5\u001b[0m     \u001b[0mmoves\u001b[0m \u001b[0;34m=\u001b[0m \u001b[0minstruction\u001b[0m\u001b[0;34m[\u001b[0m\u001b[0;36m0\u001b[0m\u001b[0;34m]\u001b[0m\u001b[0;34m\u001b[0m\u001b[0;34m\u001b[0m\u001b[0m\n\u001b[1;32m      6\u001b[0m     \u001b[0mmove_from\u001b[0m \u001b[0;34m=\u001b[0m \u001b[0minstruction\u001b[0m\u001b[0;34m[\u001b[0m\u001b[0;36m1\u001b[0m\u001b[0;34m]\u001b[0m\u001b[0;34m\u001b[0m\u001b[0;34m\u001b[0m\u001b[0m\n",
      "\u001b[0;32m<ipython-input-3-c09b3d5f0981>\u001b[0m in \u001b[0;36minstruction_at\u001b[0;34m(self, i)\u001b[0m\n\u001b[1;32m     41\u001b[0m \u001b[0;34m\u001b[0m\u001b[0m\n\u001b[1;32m     42\u001b[0m     \u001b[0;32mdef\u001b[0m \u001b[0minstruction_at\u001b[0m\u001b[0;34m(\u001b[0m\u001b[0mself\u001b[0m\u001b[0;34m,\u001b[0m \u001b[0mi\u001b[0m\u001b[0;34m)\u001b[0m\u001b[0;34m:\u001b[0m\u001b[0;34m\u001b[0m\u001b[0;34m\u001b[0m\u001b[0m\n\u001b[0;32m---> 43\u001b[0;31m         \u001b[0;32mreturn\u001b[0m \u001b[0mtuple\u001b[0m\u001b[0;34m(\u001b[0m\u001b[0;34m[\u001b[0m\u001b[0mint\u001b[0m\u001b[0;34m(\u001b[0m\u001b[0mj\u001b[0m\u001b[0;34m.\u001b[0m\u001b[0mstrip\u001b[0m\u001b[0;34m(\u001b[0m\u001b[0;34m)\u001b[0m\u001b[0;34m)\u001b[0m \u001b[0;32mfor\u001b[0m \u001b[0mj\u001b[0m \u001b[0;32min\u001b[0m \u001b[0mre\u001b[0m\u001b[0;34m.\u001b[0m\u001b[0msplit\u001b[0m\u001b[0;34m(\u001b[0m\u001b[0;34mr\"move | from | to \"\u001b[0m\u001b[0;34m,\u001b[0m \u001b[0mlines\u001b[0m\u001b[0;34m[\u001b[0m\u001b[0mi\u001b[0m\u001b[0;34m]\u001b[0m\u001b[0;34m)\u001b[0m\u001b[0;34m[\u001b[0m\u001b[0;36m1\u001b[0m\u001b[0;34m:\u001b[0m\u001b[0;34m]\u001b[0m\u001b[0;34m]\u001b[0m\u001b[0;34m)\u001b[0m\u001b[0;34m\u001b[0m\u001b[0;34m\u001b[0m\u001b[0m\n\u001b[0m\u001b[1;32m     44\u001b[0m \u001b[0;34m\u001b[0m\u001b[0m\n",
      "\u001b[0;31mNameError\u001b[0m: name 're' is not defined"
     ]
    }
   ],
   "source": [
    "stacks = ParsedStacks()\n",
    "\n",
    "for i in range(stacks.first_instruction, len(lines)):\n",
    "    instruction = stacks.instruction_at(i)\n",
    "    moves = instruction[0]\n",
    "    move_from = instruction[1]\n",
    "    move_to = instruction[2]\n",
    "    for j in range(moves):\n",
    "        stacks.transfer(move_from, move_to)\n",
    "\n",
    "print(stacks.top_of_stacks())"
   ]
  },
  {
   "cell_type": "markdown",
   "metadata": {},
   "source": [
    "Part 2"
   ]
  },
  {
   "cell_type": "code",
   "execution_count": null,
   "metadata": {},
   "outputs": [],
   "source": []
  }
 ],
 "metadata": {
  "kernelspec": {
   "display_name": "Python 3.9.0 64-bit",
   "language": "python",
   "name": "python3"
  },
  "language_info": {
   "codemirror_mode": {
    "name": "ipython",
    "version": 3
   },
   "file_extension": ".py",
   "mimetype": "text/x-python",
   "name": "python",
   "nbconvert_exporter": "python",
   "pygments_lexer": "ipython3",
   "version": "3.9.0"
  },
  "orig_nbformat": 4,
  "vscode": {
   "interpreter": {
    "hash": "aee8b7b246df8f9039afb4144a1f6fd8d2ca17a180786b69acc140d282b71a49"
   }
  }
 },
 "nbformat": 4,
 "nbformat_minor": 2
}
