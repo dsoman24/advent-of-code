{
 "cells": [
  {
   "attachments": {},
   "cell_type": "markdown",
   "metadata": {},
   "source": [
    "# 7"
   ]
  },
  {
   "cell_type": "code",
   "execution_count": 203,
   "metadata": {},
   "outputs": [],
   "source": [
    "with open(\"input.txt\") as f:\n",
    "    lines = f.readlines()"
   ]
  },
  {
   "cell_type": "markdown",
   "metadata": {},
   "source": [
    "First I can go through the input and make a nested dictionary to represent the directory. \n",
    "- cd / i go back to the top level\n",
    "- cd x i move in one level\n",
    "- cd .. i move back one level\n",
    "\n",
    "Here I have classes to define a Directory and a File:"
   ]
  },
  {
   "cell_type": "code",
   "execution_count": 204,
   "metadata": {},
   "outputs": [],
   "source": [
    "class Directory:\n",
    "    def __init__(self, name):\n",
    "        self.name = name\n",
    "        self.size = 0\n",
    "        self.contents = {}\n",
    "\n",
    "    def add(self, file_item):\n",
    "        if file_item.name not in self.contents:\n",
    "            self.contents[file_item.name] = file_item\n",
    "\n",
    "    def get(self, name): # get a directory with a given name housed within this directory\n",
    "        return self.contents[name]\n",
    "\n",
    "    # recursve helper method to find the total size\n",
    "    def __total_size_helper(self, curr):\n",
    "        if isinstance(curr, File):\n",
    "            return curr.size\n",
    "        s = 0\n",
    "        for item in curr.contents.values():\n",
    "            s += self.__total_size_helper(item)\n",
    "        return s\n",
    "        \n",
    "    # recursively find the total size of this directory\n",
    "    def total_size(self):\n",
    "        return self.__total_size_helper(self)\n",
    "\n",
    "class File:\n",
    "    def __init__(self, name, size):\n",
    "        self.name = name\n",
    "        self.size = size\n"
   ]
  },
  {
   "cell_type": "markdown",
   "metadata": {},
   "source": [
    "Class to represent the current working directory. Backed by a stack:"
   ]
  },
  {
   "cell_type": "code",
   "execution_count": 205,
   "metadata": {},
   "outputs": [],
   "source": [
    "class CurrentWorkingDirectory:\n",
    "    def __init__(self):\n",
    "        self.main = Directory(\"/\")\n",
    "        self.arr = [self.main]\n",
    "    \n",
    "    def cwd(self):\n",
    "        return self.arr[-1]\n",
    "\n",
    "    def cd(self, name):\n",
    "        if name == \"/\":\n",
    "            self.arr = [self.main] # reset stack to start\n",
    "        elif name == \"..\":\n",
    "            self.arr.pop(-1)\n",
    "        else:\n",
    "            self.arr.append(self.cwd().get(name))\n",
    "\n",
    "    def get_main(self): #gets the main directory\n",
    "        return self.main\n",
    "\n",
    "    def mkdir(self, name): # create a directory in the cwd\n",
    "        self.cwd().add(Directory(name))\n",
    "    \n",
    "    def mkfile(self, name, size): # create a file in the cwd\n",
    "        self.cwd().add(File(name, size))"
   ]
  },
  {
   "cell_type": "markdown",
   "metadata": {},
   "source": [
    "Function to parse the input data into a Directory object"
   ]
  },
  {
   "cell_type": "code",
   "execution_count": 206,
   "metadata": {},
   "outputs": [],
   "source": [
    "def parse():\n",
    "\n",
    "    master = CurrentWorkingDirectory()\n",
    "\n",
    "    i = 1\n",
    "    while i < len(lines):\n",
    "        line = lines[i].strip().split()\n",
    "        instruction = line[1] # line we read will always be an instruction because we skip non-instructions\n",
    "        # print(line)\n",
    "        if instruction == \"cd\":\n",
    "            master.cd(line[2])\n",
    "            i += 1\n",
    "        elif instruction == \"ls\":\n",
    "            j = i + 1\n",
    "            while j < len(lines):\n",
    "                curr = lines[j].strip().split()\n",
    "                if curr[0] == \"$\":\n",
    "                    break\n",
    "                if curr[0] == \"dir\":\n",
    "                    master.mkdir(curr[1])\n",
    "                else:\n",
    "                    master.mkfile(curr[1], int(curr[0]))\n",
    "                j += 1\n",
    "            i = j\n",
    "    return master.get_main()"
   ]
  },
  {
   "cell_type": "markdown",
   "metadata": {},
   "source": [
    "Part 1\n",
    "\n",
    "We recursively find the sum of everything that has a sum less than 100000"
   ]
  },
  {
   "cell_type": "code",
   "execution_count": 207,
   "metadata": {},
   "outputs": [
    {
     "data": {
      "text/plain": [
       "1297159"
      ]
     },
     "execution_count": 207,
     "metadata": {},
     "output_type": "execute_result"
    }
   ],
   "source": [
    "def part1():\n",
    "    sum_of_sizes = [0]\n",
    "    master = parse()\n",
    "    helper(master, sum_of_sizes)\n",
    "    return sum_of_sizes[0]\n",
    "\n",
    "def helper(curr, s):\n",
    "    if isinstance(curr, File):\n",
    "        return\n",
    "    size = curr.total_size()\n",
    "    if size <= 100000:\n",
    "        s[0] += size\n",
    "    for item in curr.contents.values():\n",
    "        helper(item, s)\n",
    "\n",
    "part1()"
   ]
  },
  {
   "cell_type": "markdown",
   "metadata": {},
   "source": [
    "Part 2"
   ]
  },
  {
   "cell_type": "markdown",
   "metadata": {},
   "source": [
    "We need unused space of at least 30000000. Our system has total storage size of 70000000. We currently have the following empty space:"
   ]
  },
  {
   "cell_type": "code",
   "execution_count": 208,
   "metadata": {},
   "outputs": [
    {
     "data": {
      "text/plain": [
       "43636666"
      ]
     },
     "execution_count": 208,
     "metadata": {},
     "output_type": "execute_result"
    }
   ],
   "source": [
    "size_used = parse().total_size()\n",
    "size_used"
   ]
  },
  {
   "cell_type": "code",
   "execution_count": 209,
   "metadata": {},
   "outputs": [
    {
     "data": {
      "text/plain": [
       "26363334"
      ]
     },
     "execution_count": 209,
     "metadata": {},
     "output_type": "execute_result"
    }
   ],
   "source": [
    "free_space_remaining = 70000000 - size_used\n",
    "free_space_remaining"
   ]
  },
  {
   "cell_type": "markdown",
   "metadata": {},
   "source": [
    "This means we need to free up the following amount of space to get the minimum 30000000:"
   ]
  },
  {
   "cell_type": "code",
   "execution_count": 210,
   "metadata": {},
   "outputs": [
    {
     "data": {
      "text/plain": [
       "3636666"
      ]
     },
     "execution_count": 210,
     "metadata": {},
     "output_type": "execute_result"
    }
   ],
   "source": [
    "30000000 - free_space_remaining"
   ]
  },
  {
   "cell_type": "code",
   "execution_count": 215,
   "metadata": {},
   "outputs": [
    {
     "data": {
      "text/plain": [
       "3866390"
      ]
     },
     "execution_count": 215,
     "metadata": {},
     "output_type": "execute_result"
    }
   ],
   "source": [
    "def part2():\n",
    "    min_space_to_free = 30000000 - (70000000 - parse().total_size())\n",
    "    master = parse()\n",
    "    solution = [30000000]\n",
    "    helper(master, solution, min_space_to_free)\n",
    "    return solution[0]\n",
    "    \n",
    "def helper(curr, sol, min_space):\n",
    "    if isinstance(curr, File):\n",
    "        return\n",
    "    size = curr.total_size()\n",
    "    if size < min_space:\n",
    "        return\n",
    "    if size >= min_space and size < sol[0]:\n",
    "        sol[0] = size\n",
    "    for item in curr.contents.values():\n",
    "        helper(item, sol, min_space)\n",
    "\n",
    "part2()"
   ]
  }
 ],
 "metadata": {
  "kernelspec": {
   "display_name": "Python 3.9.0 64-bit",
   "language": "python",
   "name": "python3"
  },
  "language_info": {
   "codemirror_mode": {
    "name": "ipython",
    "version": 3
   },
   "file_extension": ".py",
   "mimetype": "text/x-python",
   "name": "python",
   "nbconvert_exporter": "python",
   "pygments_lexer": "ipython3",
   "version": "3.9.0 (v3.9.0:9cf6752276, Oct  5 2020, 11:29:23) \n[Clang 6.0 (clang-600.0.57)]"
  },
  "orig_nbformat": 4,
  "vscode": {
   "interpreter": {
    "hash": "aee8b7b246df8f9039afb4144a1f6fd8d2ca17a180786b69acc140d282b71a49"
   }
  }
 },
 "nbformat": 4,
 "nbformat_minor": 2
}
