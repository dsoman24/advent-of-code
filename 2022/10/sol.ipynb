{
 "cells": [
  {
   "attachments": {},
   "cell_type": "markdown",
   "metadata": {},
   "source": [
    "# 10"
   ]
  },
  {
   "cell_type": "code",
   "execution_count": 8,
   "metadata": {},
   "outputs": [],
   "source": [
    "with open(\"input.txt\") as f:\n",
    "    lines = f.readlines()"
   ]
  },
  {
   "cell_type": "code",
   "execution_count": 9,
   "metadata": {},
   "outputs": [],
   "source": [
    "def part1():\n",
    "    X = 1\n",
    "    cycle = 0\n",
    "    strength = 0\n",
    "    for line in lines:\n",
    "        line = line.strip().split()\n",
    "        instruction = line[0]\n",
    "        subcycles = 1 if line[0] == \"noop\" else 2\n",
    "        for i in range(subcycles):\n",
    "            cycle += 1\n",
    "            if (cycle - 20) % 40 == 0:\n",
    "                strength += cycle * X\n",
    "        if instruction == \"addx\":\n",
    "            X += int(line[1])\n",
    "    return strength\n",
    "        "
   ]
  },
  {
   "cell_type": "code",
   "execution_count": 10,
   "metadata": {},
   "outputs": [
    {
     "data": {
      "text/plain": [
       "17840"
      ]
     },
     "execution_count": 10,
     "metadata": {},
     "output_type": "execute_result"
    }
   ],
   "source": [
    "part1()"
   ]
  },
  {
   "cell_type": "code",
   "execution_count": 11,
   "metadata": {},
   "outputs": [],
   "source": [
    "def part2():\n",
    "    output = \"\"\n",
    "    X = 1\n",
    "    cycle = 0\n",
    "    strength = 0\n",
    "    for line in lines:\n",
    "        line = line.strip().split()\n",
    "        instruction = line[0]\n",
    "        subcycles = 1 if line[0] == \"noop\" else 2\n",
    "        for i in range(subcycles):\n",
    "            if (X - 1 <= cycle and cycle <= X + 1):\n",
    "                output += \"#\"\n",
    "            else:\n",
    "                output += \".\"\n",
    "            cycle += 1\n",
    "            if cycle % 40 == 0:\n",
    "                cycle %= 40\n",
    "                output += \"\\n\"\n",
    "        if instruction == \"addx\":\n",
    "            X += int(line[1])\n",
    "\n",
    "    return output"
   ]
  },
  {
   "cell_type": "code",
   "execution_count": 12,
   "metadata": {},
   "outputs": [
    {
     "name": "stdout",
     "output_type": "stream",
     "text": [
      "####..##..#.....##..#..#.#....###...##..\n",
      "#....#..#.#....#..#.#..#.#....#..#.#..#.\n",
      "###..#..#.#....#....#..#.#....#..#.#....\n",
      "#....####.#....#.##.#..#.#....###..#.##.\n",
      "#....#..#.#....#..#.#..#.#....#....#..#.\n",
      "####.#..#.####..###..##..####.#.....###.\n",
      "\n"
     ]
    }
   ],
   "source": [
    "print(part2())"
   ]
  },
  {
   "attachments": {},
   "cell_type": "markdown",
   "metadata": {},
   "source": [
    "EALGULPG"
   ]
  },
  {
   "cell_type": "markdown",
   "metadata": {},
   "source": []
  }
 ],
 "metadata": {
  "kernelspec": {
   "display_name": "Python 3",
   "language": "python",
   "name": "python3"
  },
  "language_info": {
   "codemirror_mode": {
    "name": "ipython",
    "version": 3
   },
   "file_extension": ".py",
   "mimetype": "text/x-python",
   "name": "python",
   "nbconvert_exporter": "python",
   "pygments_lexer": "ipython3",
   "version": "3.9.0"
  },
  "orig_nbformat": 4,
  "vscode": {
   "interpreter": {
    "hash": "aee8b7b246df8f9039afb4144a1f6fd8d2ca17a180786b69acc140d282b71a49"
   }
  }
 },
 "nbformat": 4,
 "nbformat_minor": 2
}
