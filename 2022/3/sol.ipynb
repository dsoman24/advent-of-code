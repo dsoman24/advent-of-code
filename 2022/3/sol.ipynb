{
 "cells": [
  {
   "attachments": {},
   "cell_type": "markdown",
   "metadata": {},
   "source": [
    "# 3"
   ]
  },
  {
   "cell_type": "code",
   "execution_count": 3,
   "metadata": {},
   "outputs": [],
   "source": [
    "import string"
   ]
  },
  {
   "cell_type": "code",
   "execution_count": 1,
   "metadata": {},
   "outputs": [],
   "source": [
    "with open(\"input.txt\") as f:\n",
    "    lines = f.readlines()"
   ]
  },
  {
   "cell_type": "markdown",
   "metadata": {},
   "source": [
    "Part 1\n",
    "- Split line in half\n",
    "- Find overlapping items\n",
    "- Get priority number of those items\n",
    "- Add"
   ]
  },
  {
   "cell_type": "code",
   "execution_count": 19,
   "metadata": {},
   "outputs": [],
   "source": [
    "priority = {string.ascii_lowercase[i] : i + 1 for i in range(len(string.ascii_lowercase))}\n",
    "priority.update({string.ascii_uppercase[i] : i + 27 for i in range(len(string.ascii_lowercase))})"
   ]
  },
  {
   "cell_type": "code",
   "execution_count": 20,
   "metadata": {},
   "outputs": [
    {
     "data": {
      "text/plain": [
       "8018"
      ]
     },
     "execution_count": 20,
     "metadata": {},
     "output_type": "execute_result"
    }
   ],
   "source": [
    "score = 0\n",
    "for line in lines:\n",
    "    left = set(line[:len(line) // 2])\n",
    "    right = set(line[len(line) // 2:].strip())\n",
    "    common = left.intersection(right)\n",
    "    for item in common:\n",
    "        score += priority[item]\n",
    "\n",
    "score"
   ]
  },
  {
   "cell_type": "markdown",
   "metadata": {},
   "source": [
    "Part 2\n",
    "- every 3 is a group\n",
    "- find (single) common within group\n",
    "- assign priority and sum"
   ]
  },
  {
   "cell_type": "code",
   "execution_count": 36,
   "metadata": {},
   "outputs": [
    {
     "name": "stdout",
     "output_type": "stream",
     "text": [
      "['PCrStRPSPvZQcZPvqvfjSRWFFNFJFLZTTJTTVZFFGLFF\\n', 'DlpBzBntHDzhlpGJVHLwTMFLVLTL\\n', 'gptBBdgzpsBbpQvvPQPRqrdcCC\\n']\n"
     ]
    },
    {
     "data": {
      "text/plain": [
       "2518"
      ]
     },
     "execution_count": 36,
     "metadata": {},
     "output_type": "execute_result"
    }
   ],
   "source": [
    "score = 0\n",
    "for i in range(0, len(lines) - 2, 3):\n",
    "    group = lines[i : i + 3]\n",
    "    common = set(group[0].strip()).intersection(set(group[1].strip())).intersection(set(group[2].strip()))\n",
    "    score += priority[list(common)[0]]\n",
    "\n",
    "print(group)\n",
    "score\n",
    "\n"
   ]
  }
 ],
 "metadata": {
  "kernelspec": {
   "display_name": "Python 3.9.0 64-bit",
   "language": "python",
   "name": "python3"
  },
  "language_info": {
   "codemirror_mode": {
    "name": "ipython",
    "version": 3
   },
   "file_extension": ".py",
   "mimetype": "text/x-python",
   "name": "python",
   "nbconvert_exporter": "python",
   "pygments_lexer": "ipython3",
   "version": "3.9.0 (v3.9.0:9cf6752276, Oct  5 2020, 11:29:23) \n[Clang 6.0 (clang-600.0.57)]"
  },
  "orig_nbformat": 4,
  "vscode": {
   "interpreter": {
    "hash": "aee8b7b246df8f9039afb4144a1f6fd8d2ca17a180786b69acc140d282b71a49"
   }
  }
 },
 "nbformat": 4,
 "nbformat_minor": 2
}
