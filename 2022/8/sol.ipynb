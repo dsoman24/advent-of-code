{
 "cells": [
  {
   "attachments": {},
   "cell_type": "markdown",
   "metadata": {},
   "source": [
    "# 8"
   ]
  },
  {
   "cell_type": "code",
   "execution_count": 82,
   "metadata": {},
   "outputs": [],
   "source": [
    "with open(\"input.txt\") as f:\n",
    "    lines = f.readlines()\n",
    "\n",
    "grid = [[int(i) for i in row.strip()] for row in lines]"
   ]
  },
  {
   "attachments": {},
   "cell_type": "markdown",
   "metadata": {},
   "source": [
    "Part 1"
   ]
  },
  {
   "cell_type": "code",
   "execution_count": 83,
   "metadata": {},
   "outputs": [
    {
     "data": {
      "text/plain": [
       "392"
      ]
     },
     "execution_count": 83,
     "metadata": {},
     "output_type": "execute_result"
    }
   ],
   "source": [
    "height = len(grid)\n",
    "width = len(grid[0])\n",
    "num_edge = 2*height + 2*(width - 2)\n",
    "num_edge"
   ]
  },
  {
   "cell_type": "code",
   "execution_count": 84,
   "metadata": {},
   "outputs": [
    {
     "data": {
      "text/plain": [
       "1693"
      ]
     },
     "execution_count": 84,
     "metadata": {},
     "output_type": "execute_result"
    }
   ],
   "source": [
    "def part1():\n",
    "    num_visible = 0\n",
    "    for i in range(len(grid)):\n",
    "        for j in range(len(grid[0])):\n",
    "            tree = grid[i][j]\n",
    "            visible = 4\n",
    "            # look up (keep j fixed, decrement i direction)\n",
    "            for x in range(i - 1, -1, -1):\n",
    "                if grid[x][j] >= tree:\n",
    "                    visible -= 1\n",
    "                    break\n",
    "            # look down\n",
    "            for x in range(i + 1, len(grid)):\n",
    "                if grid[x][j] >= tree:\n",
    "                    visible -= 1\n",
    "                    break\n",
    "\n",
    "            # look right (keep i fixed, increment j direction)\n",
    "            for x in range(j + 1, len(grid[0])):\n",
    "                if grid[i][x] >= tree:\n",
    "                    visible -= 1\n",
    "                    break\n",
    "                \n",
    "            # look left\n",
    "            for x in range(j - 1, -1, -1):\n",
    "                if grid[i][x] >= tree:\n",
    "                    visible -=1\n",
    "                    break\n",
    "            if visible > 0:\n",
    "                num_visible += 1\n",
    "\n",
    "    return num_visible\n",
    "\n",
    "part1()"
   ]
  },
  {
   "attachments": {},
   "cell_type": "markdown",
   "metadata": {},
   "source": [
    "Part 2"
   ]
  },
  {
   "cell_type": "code",
   "execution_count": 85,
   "metadata": {},
   "outputs": [
    {
     "data": {
      "text/plain": [
       "422059"
      ]
     },
     "execution_count": 85,
     "metadata": {},
     "output_type": "execute_result"
    }
   ],
   "source": [
    "def part2():\n",
    "    max_score = 0\n",
    "    for i in range(len(grid)):\n",
    "        for j in range(len(grid[0])):\n",
    "            tree = grid[i][j]\n",
    "            score = 0\n",
    "            # look up (keep j fixed, decrement i direction)\n",
    "            u = 0\n",
    "            for x in range(i - 1, -1, -1):\n",
    "                u += 1\n",
    "                if grid[x][j] >= tree:\n",
    "                    break\n",
    "            # look down\n",
    "            d = 0\n",
    "            for x in range(i + 1, len(grid)):\n",
    "                d += 1\n",
    "                if grid[x][j] >= tree:\n",
    "                    break\n",
    "\n",
    "            # look right (keep i fixed, increment j direction)\n",
    "            r = 0\n",
    "            for x in range(j + 1, len(grid[0])):\n",
    "                r += 1\n",
    "                if grid[i][x] >= tree:\n",
    "                    break\n",
    "                \n",
    "            # look left\n",
    "            l = 0\n",
    "            for x in range(j - 1, -1, -1):\n",
    "                l += 1\n",
    "                if grid[i][x] >= tree:\n",
    "                    break\n",
    "            score = u*d*l*r\n",
    "            if score > max_score:\n",
    "                max_score = score\n",
    "\n",
    "    return max_score\n",
    "\n",
    "part2()"
   ]
  }
 ],
 "metadata": {
  "kernelspec": {
   "display_name": "Python 3",
   "language": "python",
   "name": "python3"
  },
  "language_info": {
   "codemirror_mode": {
    "name": "ipython",
    "version": 3
   },
   "file_extension": ".py",
   "mimetype": "text/x-python",
   "name": "python",
   "nbconvert_exporter": "python",
   "pygments_lexer": "ipython3",
   "version": "3.9.0"
  },
  "orig_nbformat": 4,
  "vscode": {
   "interpreter": {
    "hash": "aee8b7b246df8f9039afb4144a1f6fd8d2ca17a180786b69acc140d282b71a49"
   }
  }
 },
 "nbformat": 4,
 "nbformat_minor": 2
}
